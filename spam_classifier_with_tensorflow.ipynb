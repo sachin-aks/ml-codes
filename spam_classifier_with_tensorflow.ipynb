{
 "cells": [
  {
   "cell_type": "code",
   "execution_count": 1,
   "metadata": {},
   "outputs": [],
   "source": [
    "##This code predicts which of the user profiles with listings in a housing website is a scammer. This dataset is a skewed dataset\n",
    "#which means the number of entries with y=0 (not a scammer) is much more than y=1 (is a scammer). Therefore I am using F1 score\n",
    "#as a metric to benchmark the model performance. I am using first a simple logistic regression model and then a more involved\n",
    "#neural network model. Neural network has been implemented using tensorflow\n",
    "import numpy as np\n",
    "import tensorflow as tf\n",
    "import pandas as pd\n",
    "import matplotlib.pyplot as plt\n",
    "import seaborn as sns\n",
    "from sklearn.model_selection import train_test_split\n",
    "from sklearn.linear_model import LogisticRegression\n",
    "from sklearn.metrics import classification_report\n",
    "from sklearn.neural_network import MLPClassifier\n",
    "from sklearn.metrics import precision_recall_curve\n",
    "from sklearn.model_selection import GridSearchCV"
   ]
  },
  {
   "cell_type": "code",
   "execution_count": 2,
   "metadata": {},
   "outputs": [],
   "source": [
    "##loading dataset\n",
    "missing_values = ['na','--','?','-','None','none','non','null','NaN','']\n",
    "X_train_temp = pd.read_csv('HA_Data_Science_Train.csv',na_values=missing_values)"
   ]
  },
  {
   "cell_type": "code",
   "execution_count": 3,
   "metadata": {},
   "outputs": [
    {
     "data": {
      "text/html": [
       "<div>\n",
       "<style scoped>\n",
       "    .dataframe tbody tr th:only-of-type {\n",
       "        vertical-align: middle;\n",
       "    }\n",
       "\n",
       "    .dataframe tbody tr th {\n",
       "        vertical-align: top;\n",
       "    }\n",
       "\n",
       "    .dataframe thead th {\n",
       "        text-align: right;\n",
       "    }\n",
       "</style>\n",
       "<table border=\"1\" class=\"dataframe\">\n",
       "  <thead>\n",
       "    <tr style=\"text-align: right;\">\n",
       "      <th></th>\n",
       "      <th>LISTING_KIND</th>\n",
       "      <th>LISTING_PRICE</th>\n",
       "      <th>LISTING_REGISTRATION_POSSIBLE</th>\n",
       "      <th>ADVERTISER_COMPLETENESS_SCORE</th>\n",
       "      <th>HAS_PROFILE_PIC</th>\n",
       "      <th>IS_SCAMMER</th>\n",
       "    </tr>\n",
       "  </thead>\n",
       "  <tbody>\n",
       "    <tr>\n",
       "      <th>count</th>\n",
       "      <td>16762.00000</td>\n",
       "      <td>16762.000000</td>\n",
       "      <td>16762.000000</td>\n",
       "      <td>16762.000000</td>\n",
       "      <td>16762.000000</td>\n",
       "      <td>16762.000000</td>\n",
       "    </tr>\n",
       "    <tr>\n",
       "      <th>mean</th>\n",
       "      <td>0.67826</td>\n",
       "      <td>893.245898</td>\n",
       "      <td>0.595573</td>\n",
       "      <td>50.400609</td>\n",
       "      <td>0.788390</td>\n",
       "      <td>0.057869</td>\n",
       "    </tr>\n",
       "    <tr>\n",
       "      <th>std</th>\n",
       "      <td>0.57137</td>\n",
       "      <td>7855.890107</td>\n",
       "      <td>0.490795</td>\n",
       "      <td>26.508424</td>\n",
       "      <td>0.408462</td>\n",
       "      <td>0.233503</td>\n",
       "    </tr>\n",
       "    <tr>\n",
       "      <th>min</th>\n",
       "      <td>0.00000</td>\n",
       "      <td>0.470000</td>\n",
       "      <td>0.000000</td>\n",
       "      <td>0.000000</td>\n",
       "      <td>0.000000</td>\n",
       "      <td>0.000000</td>\n",
       "    </tr>\n",
       "    <tr>\n",
       "      <th>25%</th>\n",
       "      <td>0.00000</td>\n",
       "      <td>450.000000</td>\n",
       "      <td>0.000000</td>\n",
       "      <td>35.000000</td>\n",
       "      <td>1.000000</td>\n",
       "      <td>0.000000</td>\n",
       "    </tr>\n",
       "    <tr>\n",
       "      <th>50%</th>\n",
       "      <td>1.00000</td>\n",
       "      <td>600.000000</td>\n",
       "      <td>1.000000</td>\n",
       "      <td>50.000000</td>\n",
       "      <td>1.000000</td>\n",
       "      <td>0.000000</td>\n",
       "    </tr>\n",
       "    <tr>\n",
       "      <th>75%</th>\n",
       "      <td>1.00000</td>\n",
       "      <td>950.000000</td>\n",
       "      <td>1.000000</td>\n",
       "      <td>70.000000</td>\n",
       "      <td>1.000000</td>\n",
       "      <td>0.000000</td>\n",
       "    </tr>\n",
       "    <tr>\n",
       "      <th>max</th>\n",
       "      <td>2.00000</td>\n",
       "      <td>1000000.000000</td>\n",
       "      <td>1.000000</td>\n",
       "      <td>100.000000</td>\n",
       "      <td>1.000000</td>\n",
       "      <td>1.000000</td>\n",
       "    </tr>\n",
       "  </tbody>\n",
       "</table>\n",
       "</div>"
      ],
      "text/plain": [
       "       LISTING_KIND   LISTING_PRICE  LISTING_REGISTRATION_POSSIBLE  \\\n",
       "count   16762.00000    16762.000000                   16762.000000   \n",
       "mean        0.67826      893.245898                       0.595573   \n",
       "std         0.57137     7855.890107                       0.490795   \n",
       "min         0.00000        0.470000                       0.000000   \n",
       "25%         0.00000      450.000000                       0.000000   \n",
       "50%         1.00000      600.000000                       1.000000   \n",
       "75%         1.00000      950.000000                       1.000000   \n",
       "max         2.00000  1000000.000000                       1.000000   \n",
       "\n",
       "       ADVERTISER_COMPLETENESS_SCORE  HAS_PROFILE_PIC    IS_SCAMMER  \n",
       "count                   16762.000000     16762.000000  16762.000000  \n",
       "mean                       50.400609         0.788390      0.057869  \n",
       "std                        26.508424         0.408462      0.233503  \n",
       "min                         0.000000         0.000000      0.000000  \n",
       "25%                        35.000000         1.000000      0.000000  \n",
       "50%                        50.000000         1.000000      0.000000  \n",
       "75%                        70.000000         1.000000      0.000000  \n",
       "max                       100.000000         1.000000      1.000000  "
      ]
     },
     "execution_count": 3,
     "metadata": {},
     "output_type": "execute_result"
    }
   ],
   "source": [
    "X_train_temp.describe()\n"
   ]
  },
  {
   "cell_type": "code",
   "execution_count": 4,
   "metadata": {},
   "outputs": [],
   "source": [
    "X_train = X_train_temp.copy()"
   ]
  },
  {
   "cell_type": "code",
   "execution_count": 5,
   "metadata": {},
   "outputs": [],
   "source": [
    "X_train.BROWSER.fillna('uknown',inplace=True)\n",
    "X_train.OS.fillna('unknown',inplace=True)"
   ]
  },
  {
   "cell_type": "code",
   "execution_count": 6,
   "metadata": {},
   "outputs": [],
   "source": [
    "#converting columns to categorical variables\n",
    "X_train['BROWSER']=X_train['BROWSER'].astype('category')\n",
    "X_train['OS']=X_train['OS'].astype('category')\n",
    "X_train['LOGIN_COUNTRY_CODE']=X_train['LOGIN_COUNTRY_CODE'].astype('category')\n",
    "X_train['LISTING_COUNTRY_CODE']=X_train['LISTING_COUNTRY_CODE'].astype('category')\n"
   ]
  },
  {
   "cell_type": "code",
   "execution_count": 7,
   "metadata": {},
   "outputs": [],
   "source": [
    "#making a list of categories for different columns\n",
    "browsers = list(X_train['BROWSER'].dtype.categories)\n",
    "os = list(X_train['OS'].dtype.categories)\n",
    "login_countries =list(X_train['LOGIN_COUNTRY_CODE'].dtype.categories)\n",
    "listing_countries = list(X_train['LISTING_COUNTRY_CODE'].dtype.categories)"
   ]
  },
  {
   "cell_type": "code",
   "execution_count": 8,
   "metadata": {},
   "outputs": [],
   "source": [
    "X_is_scammer = X_train[X_train['IS_SCAMMER']==1]\n",
    "X_not_scammer = X_train[X_train['IS_SCAMMER']==0]"
   ]
  },
  {
   "cell_type": "code",
   "execution_count": 9,
   "metadata": {},
   "outputs": [],
   "source": [
    "login_country_counts_is_scammer = X_is_scammer['LOGIN_COUNTRY_CODE'].value_counts()\n",
    "login_country_counts_not_scammer = X_not_scammer['LOGIN_COUNTRY_CODE'].value_counts()"
   ]
  },
  {
   "cell_type": "code",
   "execution_count": 10,
   "metadata": {},
   "outputs": [],
   "source": [
    "login_countries_list = list(login_country_counts_is_scammer.index)"
   ]
  },
  {
   "cell_type": "code",
   "execution_count": 11,
   "metadata": {},
   "outputs": [],
   "source": [
    "login_countries_list_small = login_countries_list[0:16]"
   ]
  },
  {
   "cell_type": "code",
   "execution_count": 12,
   "metadata": {},
   "outputs": [],
   "source": [
    "#Keeping login country same if present in above list else replace by 'other'\n",
    "X_train['LOGIN_COUNTRY_CODE']=[x if x in login_countries_list_small else 'other' for x in X_train['LOGIN_COUNTRY_CODE']]"
   ]
  },
  {
   "cell_type": "code",
   "execution_count": 13,
   "metadata": {},
   "outputs": [],
   "source": [
    "X_train['LISTING_COUNTRY_CODE']=[x if x in login_countries_list_small else 'other' for x in X_train['LISTING_COUNTRY_CODE']]"
   ]
  },
  {
   "cell_type": "code",
   "execution_count": 14,
   "metadata": {},
   "outputs": [],
   "source": [
    "#Creating a additional Boolean column which is 1 of login and listing countries are same else 0.\n",
    "X_train['login_equals_listing'] = X_train['LOGIN_COUNTRY_CODE']==X_train['LISTING_COUNTRY_CODE']"
   ]
  },
  {
   "cell_type": "code",
   "execution_count": 15,
   "metadata": {},
   "outputs": [],
   "source": [
    "#converting categorical columns into numerical\n",
    "X_train['login_equals_listing']=X_train['login_equals_listing'].astype('category').cat.codes\n",
    "X_train['MANAGED_ACCOUNT']=X_train['MANAGED_ACCOUNT'].astype('category').cat.codes\n",
    "#Converting %completenss score into a fraction\n",
    "X_train['ADVERTISER_COMPLETENESS_SCORE']=X_train['ADVERTISER_COMPLETENESS_SCORE']/100"
   ]
  },
  {
   "cell_type": "code",
   "execution_count": 16,
   "metadata": {},
   "outputs": [],
   "source": [
    "#Standardizing listing price\n",
    "mean_price = X_train.LISTING_PRICE.mean()\n",
    "stddev = X_train.LISTING_PRICE.std()"
   ]
  },
  {
   "cell_type": "code",
   "execution_count": 17,
   "metadata": {},
   "outputs": [],
   "source": [
    "X_train['LISTING_PRICE']=(X_train['LISTING_PRICE']-mean_price)/stddev\n"
   ]
  },
  {
   "cell_type": "code",
   "execution_count": 18,
   "metadata": {},
   "outputs": [],
   "source": [
    "#converting categorical columns with their one-hot vectors\n",
    "OS_onehot = pd.get_dummies(X_train['OS'],prefix='OS')\n",
    "BROWSER_onehot = pd.get_dummies(X_train['BROWSER'],prefix='BROWSER')"
   ]
  },
  {
   "cell_type": "code",
   "execution_count": 19,
   "metadata": {},
   "outputs": [],
   "source": [
    "LOGIN_onehot = pd.get_dummies(X_train['LOGIN_COUNTRY_CODE'],prefix='LOGIN')\n",
    "LISTING_onehot = pd.get_dummies(X_train['LISTING_COUNTRY_CODE'],prefix='LISTING')"
   ]
  },
  {
   "cell_type": "code",
   "execution_count": 20,
   "metadata": {},
   "outputs": [],
   "source": [
    "X_train = pd.concat([X_train,OS_onehot,BROWSER_onehot,LOGIN_onehot,LISTING_onehot],axis=1)"
   ]
  },
  {
   "cell_type": "code",
   "execution_count": 21,
   "metadata": {},
   "outputs": [],
   "source": [
    "X_train = X_train.drop(['LISTING_CITY','IS_ARCHIVED','ARCHIVE_REASON','ANONYMISED_EMAIL','OS','BROWSER','LOGIN_COUNTRY_CODE','LISTING_COUNTRY_CODE'],axis=1)"
   ]
  },
  {
   "cell_type": "code",
   "execution_count": 22,
   "metadata": {},
   "outputs": [],
   "source": [
    "X_train = X_train.drop(['OS_BlackBerry','BROWSER_BlackBerry','LISTING_ng','BROWSER_Firefox iOS'],axis=1)"
   ]
  },
  {
   "cell_type": "code",
   "execution_count": 23,
   "metadata": {},
   "outputs": [],
   "source": [
    "X_train_fit, X_test_fit, y_train_fit, y_test_fit = train_test_split(X_train.drop(['IS_SCAMMER'],axis=1),X_train['IS_SCAMMER'],test_size=0.40,random_state=101)\n"
   ]
  },
  {
   "cell_type": "code",
   "execution_count": 24,
   "metadata": {},
   "outputs": [],
   "source": [
    "#Function to compute cost for the neural network\n",
    "def compute_cost(Z3,Y,beta,parameters):\n",
    "    \n",
    "    logits = tf.transpose(Z3)\n",
    "    labels = tf.transpose(Y)\n",
    "    W1 = parameters['W1']\n",
    "    W2 = parameters['W2']\n",
    "    W3 = parameters['W3']\n",
    "    cost = tf.reduce_mean(tf.nn.sigmoid_cross_entropy_with_logits(logits=logits,labels=labels)+beta*(tf.nn.l2_loss(W1)+tf.nn.l2_loss(W2)+tf.nn.l2_loss(W3)))\n",
    "    return cost\n",
    "    "
   ]
  },
  {
   "cell_type": "code",
   "execution_count": 25,
   "metadata": {},
   "outputs": [],
   "source": [
    "#Function to create a model and find optimal parameter values and returned the predicted values for training and cross-validation set\n",
    "\n",
    "def create_model(X_data,Y_data,X_test,Y_test,learning_rate=0.0001,beta = 0, num_epochs=1500):\n",
    "    \n",
    "    (nx,m) = X_data.shape\n",
    "    (ny,m) = Y_data.shape\n",
    "    X = tf.placeholder(tf.float32,shape=[nx,None])\n",
    "    Y = tf.placeholder(tf.float32,shape=[ny,None])\n",
    "    \n",
    "    W1 = tf.get_variable(\"W1\",[25,nx],initializer=tf.contrib.layers.xavier_initializer(seed=1))\n",
    "    b1 = tf.get_variable(\"b1\",[25,1],initializer=tf.zeros_initializer())\n",
    "    W2 = tf.get_variable(\"W2\",[25,25],initializer=tf.contrib.layers.xavier_initializer(seed=1))\n",
    "    b2 = tf.get_variable(\"b2\",[25,1],initializer=tf.zeros_initializer())\n",
    "    W3 = tf.get_variable(\"W3\",[1,25],initializer=tf.contrib.layers.xavier_initializer(seed=1))\n",
    "    b3 = tf.get_variable(\"b3\",[1,1],initializer=tf.zeros_initializer())\n",
    "    \n",
    "    Z1 = tf.add(tf.matmul(W1,X),b1)\n",
    "    A1 = tf.nn.relu(Z1)\n",
    "    Z2 = tf.add(tf.matmul(W2,A1),b2)\n",
    "    A2 = tf.nn.relu(Z2)\n",
    "    Z3 = tf.add(tf.matmul(W3,A2),b3)\n",
    "    \n",
    "    parameters = {'W1':W1,'W2':W2,'W3':W3}\n",
    "    costs=[]\n",
    "    cost = compute_cost(Z3,Y,beta,parameters)\n",
    "    \n",
    "    optimizer = tf.train.AdamOptimizer(learning_rate = learning_rate).minimize(cost)\n",
    "    \n",
    "    init = tf.global_variables_initializer()\n",
    "    \n",
    "    with tf.Session() as sess:\n",
    "        sess.run(init)\n",
    "        \n",
    "        for epoch in range(num_epochs):\n",
    "            \n",
    "            _,epoch_cost = sess.run([optimizer,cost],feed_dict={X:X_data,Y:Y_data})\n",
    "            if epoch%100 == 0:\n",
    "                print('Cost after epoch %d is %f'%(epoch,epoch_cost))\n",
    "            if epoch%5 ==0:\n",
    "                costs.append(epoch_cost)\n",
    "                \n",
    "        plt.plot(np.squeeze(costs))\n",
    "        plt.ylabel('cost')\n",
    "        plt.xlabel('iterations (per fives)')\n",
    "        plt.title(\"Learning rate =\" + str(learning_rate))\n",
    "        plt.show()\n",
    "        \n",
    "        y_pred_train = (tf.sigmoid(Z3)).eval({X:X_data,Y:Y_data})\n",
    "        y_pred_test =  (tf.sigmoid(Z3)).eval({X:X_test,Y:Y_test})\n",
    "        \n",
    "        return y_pred_train,y_pred_test\n",
    "        \n",
    "        \n",
    "        \n",
    "    "
   ]
  },
  {
   "cell_type": "code",
   "execution_count": 26,
   "metadata": {},
   "outputs": [
    {
     "name": "stdout",
     "output_type": "stream",
     "text": [
      "WARNING:tensorflow:\n",
      "The TensorFlow contrib module will not be included in TensorFlow 2.0.\n",
      "For more information, please see:\n",
      "  * https://github.com/tensorflow/community/blob/master/rfcs/20180907-contrib-sunset.md\n",
      "  * https://github.com/tensorflow/addons\n",
      "  * https://github.com/tensorflow/io (for I/O related ops)\n",
      "If you depend on functionality not listed there, please file an issue.\n",
      "\n",
      "WARNING:tensorflow:From C:\\Users\\sacsp\\Downloads\\WPy64-3741\\python-3.7.4.amd64\\lib\\site-packages\\tensorflow\\python\\ops\\nn_impl.py:180: add_dispatch_support.<locals>.wrapper (from tensorflow.python.ops.array_ops) is deprecated and will be removed in a future version.\n",
      "Instructions for updating:\n",
      "Use tf.where in 2.0, which has the same broadcast rule as np.where\n",
      "Cost after epoch 0 is 0.755442\n",
      "Cost after epoch 100 is 0.134462\n",
      "Cost after epoch 200 is 0.122941\n",
      "Cost after epoch 300 is 0.119300\n",
      "Cost after epoch 400 is 0.117743\n",
      "Cost after epoch 500 is 0.116878\n",
      "Cost after epoch 600 is 0.116480\n",
      "Cost after epoch 700 is 0.116250\n",
      "Cost after epoch 800 is 0.116078\n",
      "Cost after epoch 900 is 0.115987\n",
      "Cost after epoch 1000 is 0.115884\n",
      "Cost after epoch 1100 is 0.115852\n",
      "Cost after epoch 1200 is 0.115802\n",
      "Cost after epoch 1300 is 0.115704\n",
      "Cost after epoch 1400 is 0.115571\n",
      "Cost after epoch 1500 is 0.115540\n",
      "Cost after epoch 1600 is 0.115533\n",
      "Cost after epoch 1700 is 0.115522\n",
      "Cost after epoch 1800 is 0.115487\n",
      "Cost after epoch 1900 is 0.115456\n"
     ]
    },
    {
     "data": {
      "image/png": "[encoded data removed]",
      "text/plain": [
       "<Figure size 432x288 with 1 Axes>"
      ]
     },
     "metadata": {
      "needs_background": "light"
     },
     "output_type": "display_data"
    }
   ],
   "source": [
    "tf.reset_default_graph()\n",
    "ny=y_train_fit.shape\n",
    "y_train_fit  = y_train_fit.values.reshape((-1,1))\n",
    "y_test_fit = y_test_fit.values.reshape((-1,1))\n",
    "y_test_fit.shape\n",
    "y_pred_train,y_pred_test = create_model(np.transpose(X_train_fit),np.transpose(y_train_fit),np.transpose(X_test_fit),np.transpose(y_test_fit),learning_rate=0.006,beta=0.0027,num_epochs=2000)"
   ]
  },
  {
   "cell_type": "code",
   "execution_count": 27,
   "metadata": {},
   "outputs": [
    {
     "data": {
      "text/plain": [
       "numpy.ndarray"
      ]
     },
     "execution_count": 27,
     "metadata": {},
     "output_type": "execute_result"
    }
   ],
   "source": [
    "type(y_train_fit)\n",
    "\n",
    "\n"
   ]
  },
  {
   "cell_type": "code",
   "execution_count": 29,
   "metadata": {},
   "outputs": [
    {
     "name": "stdout",
     "output_type": "stream",
     "text": [
      "Maximum F1 score: 0.7034611786716558\n",
      "New threshold: 0.37602705\n"
     ]
    },
    {
     "data": {
      "image/png": "[encoded data removed]",
      "text/plain": [
       "<Figure size 432x288 with 1 Axes>"
      ]
     },
     "metadata": {
      "needs_background": "light"
     },
     "output_type": "display_data"
    }
   ],
   "source": [
    "#calculating F1 score using calculated y values for training and test data\n",
    "precision_train,recall_train,thresholds_train = precision_recall_curve(np.ravel(y_train_fit),np.ravel(np.transpose(y_pred_train)))\n",
    "f1_score_train = 2*precision_train*recall_train/(precision_train+recall_train)\n",
    "plt.plot(thresholds_train, precision_train[: -1], \"g--\", label=\"Precision\")\n",
    "plt.plot(thresholds_train, recall_train[: -1], \"b--\", label=\"Recall\")\n",
    "plt.plot(thresholds_train,f1_score_train[: -1],\"r--\",label=\"F1Score\")\n",
    "plt.xlabel('thresholds')\n",
    "plt.ylabel('Precision/Recall')\n",
    "print('Maximum F1 score:',max(f1_score_train))\n",
    "new_threshold = thresholds_train[np.argmax(f1_score_train)] #defining new threshold for logistic regression which maximises the f1_score\n",
    "print('New threshold:',new_threshold)"
   ]
  },
  {
   "cell_type": "code",
   "execution_count": 149,
   "metadata": {},
   "outputs": [
    {
     "data": {
      "text/plain": [
       "0"
      ]
     },
     "execution_count": 149,
     "metadata": {},
     "output_type": "execute_result"
    }
   ],
   "source": [
    "np.isnan(y_pred_test).sum()\n"
   ]
  },
  {
   "cell_type": "code",
   "execution_count": 30,
   "metadata": {},
   "outputs": [
    {
     "name": "stdout",
     "output_type": "stream",
     "text": [
      "Maximum F1 score: 0.7\n",
      "New threshold: 0.27134076\n"
     ]
    },
    {
     "data": {
      "image/png": "[encoded data removed]",
      "text/plain": [
       "<Figure size 432x288 with 1 Axes>"
      ]
     },
     "metadata": {
      "needs_background": "light"
     },
     "output_type": "display_data"
    }
   ],
   "source": [
    "#Testing model on cross validation data\n",
    "precision_test,recall_test,thresholds_test = precision_recall_curve(np.ravel(y_test_fit),np.ravel(np.transpose(y_pred_test)))\n",
    "f1_score_test = 2*precision_test*recall_test/(precision_test+recall_test)\n",
    "precision_test[-13]\n",
    "plt.plot(thresholds_test, precision_test[: -1], \"g--\", label=\"Precision\")\n",
    "plt.plot(thresholds_test, recall_test[: -1], \"b--\", label=\"Recall\")\n",
    "plt.plot(thresholds_test,f1_score_test[: -1],\"r--\",label=\"F1Score\")\n",
    "plt.xlabel('thresholds')\n",
    "plt.ylabel('Precision/Recall')\n",
    "print('Maximum F1 score:',max(f1_score_test))\n",
    "new_threshold = thresholds_test[np.argmax(f1_score_test)]\n",
    "print('New threshold:',new_threshold)"
   ]
  }
 ],
 "metadata": {
  "kernelspec": {
   "display_name": "Python 3",
   "language": "python",
   "name": "python3"
  },
  "language_info": {
   "codemirror_mode": {
    "name": "ipython",
    "version": 3
   },
   "file_extension": ".py",
   "mimetype": "text/x-python",
   "name": "python",
   "nbconvert_exporter": "python",
   "pygments_lexer": "ipython3",
   "version": "3.7.4"
  }
 },
 "nbformat": 4,
 "nbformat_minor": 2
}
