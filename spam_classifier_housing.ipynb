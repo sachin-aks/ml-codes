{
 "cells": [
  {
   "cell_type": "code",
   "execution_count": 1,
   "metadata": {},
   "outputs": [],
   "source": [
    "##This code predicts which of the user profiles with listings in a housing website is a scammer. This dataset is a skewed dataset\n",
    "#which means the number of entries with y=0 (not a scammer) is much more than y=1 (is a scammer). Therefore I am using F1 score\n",
    "#as a metric to benchmark the model performance. I am using first a simple logistic regression model and then a more involved\n",
    "#neural network model\n",
    "\n",
    "import numpy as np\n",
    "import tensorflow as tf\n",
    "import pandas as pd\n",
    "import matplotlib.pyplot as plt\n",
    "import seaborn as sns\n",
    "from sklearn.model_selection import train_test_split\n",
    "from sklearn.linear_model import LogisticRegression\n",
    "from sklearn.metrics import classification_report\n",
    "from sklearn.neural_network import MLPClassifier\n",
    "from sklearn.metrics import precision_recall_curve\n",
    "from sklearn.model_selection import GridSearchCV\n",
    "from sklearn.metrics import accuracy_score"
   ]
  },
  {
   "cell_type": "code",
   "execution_count": 2,
   "metadata": {},
   "outputs": [],
   "source": [
    "#Loading dataset\n",
    "missing_values = ['na','--','?','-','None','none','non','null','NaN','']\n",
    "X_train_temp = pd.read_csv('HA_Data_Science_Train.csv',na_values=missing_values)"
   ]
  },
  {
   "cell_type": "code",
   "execution_count": 3,
   "metadata": {},
   "outputs": [
    {
     "data": {
      "text/plain": [
       "(16762, 15)"
      ]
     },
     "execution_count": 3,
     "metadata": {},
     "output_type": "execute_result"
    }
   ],
   "source": [
    "X_train_temp.shape\n"
   ]
  },
  {
   "cell_type": "code",
   "execution_count": 5,
   "metadata": {},
   "outputs": [
    {
     "data": {
      "text/html": [
       "<div>\n",
       "<style scoped>\n",
       "    .dataframe tbody tr th:only-of-type {\n",
       "        vertical-align: middle;\n",
       "    }\n",
       "\n",
       "    .dataframe tbody tr th {\n",
       "        vertical-align: top;\n",
       "    }\n",
       "\n",
       "    .dataframe thead th {\n",
       "        text-align: right;\n",
       "    }\n",
       "</style>\n",
       "<table border=\"1\" class=\"dataframe\">\n",
       "  <thead>\n",
       "    <tr style=\"text-align: right;\">\n",
       "      <th></th>\n",
       "      <th>LISTING_KIND</th>\n",
       "      <th>LISTING_CITY</th>\n",
       "      <th>LISTING_PRICE</th>\n",
       "      <th>IS_ARCHIVED</th>\n",
       "      <th>ARCHIVE_REASON</th>\n",
       "      <th>LOGIN_COUNTRY_CODE</th>\n",
       "      <th>LISTING_COUNTRY_CODE</th>\n",
       "      <th>LISTING_REGISTRATION_POSSIBLE</th>\n",
       "      <th>ADVERTISER_COMPLETENESS_SCORE</th>\n",
       "      <th>MANAGED_ACCOUNT</th>\n",
       "      <th>HAS_PROFILE_PIC</th>\n",
       "      <th>BROWSER</th>\n",
       "      <th>OS</th>\n",
       "      <th>IS_SCAMMER</th>\n",
       "      <th>ANONYMISED_EMAIL</th>\n",
       "    </tr>\n",
       "  </thead>\n",
       "  <tbody>\n",
       "    <tr>\n",
       "      <th>0</th>\n",
       "      <td>1</td>\n",
       "      <td>Göteborg</td>\n",
       "      <td>725.00</td>\n",
       "      <td>False</td>\n",
       "      <td>NaN</td>\n",
       "      <td>se</td>\n",
       "      <td>se</td>\n",
       "      <td>0</td>\n",
       "      <td>80</td>\n",
       "      <td>False</td>\n",
       "      <td>1</td>\n",
       "      <td>Mobile Safari</td>\n",
       "      <td>iOS</td>\n",
       "      <td>0</td>\n",
       "      <td>bosqlqg@aol.com</td>\n",
       "    </tr>\n",
       "    <tr>\n",
       "      <th>1</th>\n",
       "      <td>1</td>\n",
       "      <td>Göteborg</td>\n",
       "      <td>469.35</td>\n",
       "      <td>False</td>\n",
       "      <td>NaN</td>\n",
       "      <td>se</td>\n",
       "      <td>se</td>\n",
       "      <td>1</td>\n",
       "      <td>70</td>\n",
       "      <td>False</td>\n",
       "      <td>1</td>\n",
       "      <td>Chrome</td>\n",
       "      <td>Android</td>\n",
       "      <td>0</td>\n",
       "      <td>fylm235670@gmail.com</td>\n",
       "    </tr>\n",
       "    <tr>\n",
       "      <th>2</th>\n",
       "      <td>1</td>\n",
       "      <td>Elche</td>\n",
       "      <td>200.00</td>\n",
       "      <td>False</td>\n",
       "      <td>NaN</td>\n",
       "      <td>es</td>\n",
       "      <td>es</td>\n",
       "      <td>0</td>\n",
       "      <td>25</td>\n",
       "      <td>False</td>\n",
       "      <td>0</td>\n",
       "      <td>Chrome</td>\n",
       "      <td>Android</td>\n",
       "      <td>0</td>\n",
       "      <td>mhzasjonfobc@gmail.com</td>\n",
       "    </tr>\n",
       "    <tr>\n",
       "      <th>3</th>\n",
       "      <td>0</td>\n",
       "      <td>Verona</td>\n",
       "      <td>1500.00</td>\n",
       "      <td>False</td>\n",
       "      <td>NaN</td>\n",
       "      <td>it</td>\n",
       "      <td>it</td>\n",
       "      <td>0</td>\n",
       "      <td>86</td>\n",
       "      <td>False</td>\n",
       "      <td>1</td>\n",
       "      <td>Chrome</td>\n",
       "      <td>Mac OS X</td>\n",
       "      <td>0</td>\n",
       "      <td>uclypkijb@italianflat.com</td>\n",
       "    </tr>\n",
       "    <tr>\n",
       "      <th>4</th>\n",
       "      <td>1</td>\n",
       "      <td>Copenhagen</td>\n",
       "      <td>904.16</td>\n",
       "      <td>False</td>\n",
       "      <td>NaN</td>\n",
       "      <td>dk</td>\n",
       "      <td>dk</td>\n",
       "      <td>0</td>\n",
       "      <td>5</td>\n",
       "      <td>False</td>\n",
       "      <td>1</td>\n",
       "      <td>Microsoft Edge</td>\n",
       "      <td>Windows</td>\n",
       "      <td>0</td>\n",
       "      <td>dyrrtatzx.fhcs@outlook.com</td>\n",
       "    </tr>\n",
       "    <tr>\n",
       "      <th>5</th>\n",
       "      <td>0</td>\n",
       "      <td>Nice</td>\n",
       "      <td>1900.00</td>\n",
       "      <td>False</td>\n",
       "      <td>NaN</td>\n",
       "      <td>it</td>\n",
       "      <td>fr</td>\n",
       "      <td>0</td>\n",
       "      <td>50</td>\n",
       "      <td>False</td>\n",
       "      <td>1</td>\n",
       "      <td>Chrome</td>\n",
       "      <td>Windows</td>\n",
       "      <td>0</td>\n",
       "      <td>tahfbqk.ovgb@gmail.com</td>\n",
       "    </tr>\n",
       "    <tr>\n",
       "      <th>6</th>\n",
       "      <td>1</td>\n",
       "      <td>Elche</td>\n",
       "      <td>175.00</td>\n",
       "      <td>False</td>\n",
       "      <td>NaN</td>\n",
       "      <td>es</td>\n",
       "      <td>es</td>\n",
       "      <td>0</td>\n",
       "      <td>40</td>\n",
       "      <td>False</td>\n",
       "      <td>0</td>\n",
       "      <td>Chrome</td>\n",
       "      <td>Windows</td>\n",
       "      <td>0</td>\n",
       "      <td>ipeoq@jjvela.net</td>\n",
       "    </tr>\n",
       "    <tr>\n",
       "      <th>7</th>\n",
       "      <td>1</td>\n",
       "      <td>Elche</td>\n",
       "      <td>160.00</td>\n",
       "      <td>False</td>\n",
       "      <td>NaN</td>\n",
       "      <td>ar</td>\n",
       "      <td>es</td>\n",
       "      <td>1</td>\n",
       "      <td>45</td>\n",
       "      <td>False</td>\n",
       "      <td>1</td>\n",
       "      <td>Safari</td>\n",
       "      <td>Mac OS X</td>\n",
       "      <td>0</td>\n",
       "      <td>qroaqfdgld@gmail.com</td>\n",
       "    </tr>\n",
       "    <tr>\n",
       "      <th>8</th>\n",
       "      <td>0</td>\n",
       "      <td>Verona</td>\n",
       "      <td>1500.00</td>\n",
       "      <td>False</td>\n",
       "      <td>NaN</td>\n",
       "      <td>it</td>\n",
       "      <td>it</td>\n",
       "      <td>0</td>\n",
       "      <td>86</td>\n",
       "      <td>False</td>\n",
       "      <td>1</td>\n",
       "      <td>Chrome</td>\n",
       "      <td>Android</td>\n",
       "      <td>0</td>\n",
       "      <td>pumhmmkgy@italianflat.com</td>\n",
       "    </tr>\n",
       "    <tr>\n",
       "      <th>9</th>\n",
       "      <td>0</td>\n",
       "      <td>Copenhagen</td>\n",
       "      <td>205.75</td>\n",
       "      <td>True</td>\n",
       "      <td>NaN</td>\n",
       "      <td>dk</td>\n",
       "      <td>dk</td>\n",
       "      <td>1</td>\n",
       "      <td>5</td>\n",
       "      <td>False</td>\n",
       "      <td>0</td>\n",
       "      <td>Chrome</td>\n",
       "      <td>Android</td>\n",
       "      <td>0</td>\n",
       "      <td>nbgmjktjkt@hotmail.com</td>\n",
       "    </tr>\n",
       "  </tbody>\n",
       "</table>\n",
       "</div>"
      ],
      "text/plain": [
       "   LISTING_KIND LISTING_CITY  LISTING_PRICE  IS_ARCHIVED ARCHIVE_REASON  \\\n",
       "0             1     Göteborg         725.00        False            NaN   \n",
       "1             1     Göteborg         469.35        False            NaN   \n",
       "2             1        Elche         200.00        False            NaN   \n",
       "3             0       Verona        1500.00        False            NaN   \n",
       "4             1   Copenhagen         904.16        False            NaN   \n",
       "5             0         Nice        1900.00        False            NaN   \n",
       "6             1        Elche         175.00        False            NaN   \n",
       "7             1        Elche         160.00        False            NaN   \n",
       "8             0       Verona        1500.00        False            NaN   \n",
       "9             0   Copenhagen         205.75         True            NaN   \n",
       "\n",
       "  LOGIN_COUNTRY_CODE LISTING_COUNTRY_CODE  LISTING_REGISTRATION_POSSIBLE  \\\n",
       "0                 se                   se                              0   \n",
       "1                 se                   se                              1   \n",
       "2                 es                   es                              0   \n",
       "3                 it                   it                              0   \n",
       "4                 dk                   dk                              0   \n",
       "5                 it                   fr                              0   \n",
       "6                 es                   es                              0   \n",
       "7                 ar                   es                              1   \n",
       "8                 it                   it                              0   \n",
       "9                 dk                   dk                              1   \n",
       "\n",
       "   ADVERTISER_COMPLETENESS_SCORE  MANAGED_ACCOUNT  HAS_PROFILE_PIC  \\\n",
       "0                             80            False                1   \n",
       "1                             70            False                1   \n",
       "2                             25            False                0   \n",
       "3                             86            False                1   \n",
       "4                              5            False                1   \n",
       "5                             50            False                1   \n",
       "6                             40            False                0   \n",
       "7                             45            False                1   \n",
       "8                             86            False                1   \n",
       "9                              5            False                0   \n",
       "\n",
       "          BROWSER        OS  IS_SCAMMER            ANONYMISED_EMAIL  \n",
       "0   Mobile Safari       iOS           0             bosqlqg@aol.com  \n",
       "1          Chrome   Android           0        fylm235670@gmail.com  \n",
       "2          Chrome   Android           0      mhzasjonfobc@gmail.com  \n",
       "3          Chrome  Mac OS X           0   uclypkijb@italianflat.com  \n",
       "4  Microsoft Edge   Windows           0  dyrrtatzx.fhcs@outlook.com  \n",
       "5          Chrome   Windows           0      tahfbqk.ovgb@gmail.com  \n",
       "6          Chrome   Windows           0            ipeoq@jjvela.net  \n",
       "7          Safari  Mac OS X           0        qroaqfdgld@gmail.com  \n",
       "8          Chrome   Android           0   pumhmmkgy@italianflat.com  \n",
       "9          Chrome   Android           0      nbgmjktjkt@hotmail.com  "
      ]
     },
     "execution_count": 5,
     "metadata": {},
     "output_type": "execute_result"
    }
   ],
   "source": [
    "X_train_temp.head(10)\n"
   ]
  },
  {
   "cell_type": "code",
   "execution_count": 10,
   "metadata": {},
   "outputs": [
    {
     "data": {
      "text/plain": [
       "dtype('bool')"
      ]
     },
     "execution_count": 10,
     "metadata": {},
     "output_type": "execute_result"
    }
   ],
   "source": [
    "X_train_temp.IS_ARCHIVED.dtype"
   ]
  },
  {
   "cell_type": "code",
   "execution_count": null,
   "metadata": {},
   "outputs": [],
   "source": [
    "count_y_ones = (X_train_temp['IS_SCAMMER']==1).to_numpy()"
   ]
  },
  {
   "cell_type": "code",
   "execution_count": null,
   "metadata": {},
   "outputs": [],
   "source": [
    "#counting the number of 'IS_SCAMMER=1 entries'\n",
    "print(np.sum(count_y_ones))"
   ]
  },
  {
   "cell_type": "code",
   "execution_count": null,
   "metadata": {},
   "outputs": [],
   "source": [
    "#counting number of entries with 'nan' for different columns\n",
    "print(X_train_temp['BROWSER'].isna().sum())\n",
    "print(X_train_temp['OS'].isna().sum())\n",
    "print(X_train_temp['LOGIN_COUNTRY_CODE'].isna().sum())\n",
    "print(X_train_temp['LISTING_COUNTRY_CODE'].isna().sum())"
   ]
  },
  {
   "cell_type": "code",
   "execution_count": null,
   "metadata": {},
   "outputs": [],
   "source": [
    "X_train = X_train_temp.copy()"
   ]
  },
  {
   "cell_type": "code",
   "execution_count": null,
   "metadata": {},
   "outputs": [],
   "source": [
    "X_train.BROWSER.fillna('uknown',inplace=True)\n",
    "X_train.OS.fillna('unknown',inplace=True)"
   ]
  },
  {
   "cell_type": "code",
   "execution_count": null,
   "metadata": {},
   "outputs": [],
   "source": [
    "#converting columns to categorical variables \n",
    "X_train['BROWSER']=X_train['BROWSER'].astype('category')\n",
    "X_train['OS']=X_train['OS'].astype('category')\n",
    "X_train['LOGIN_COUNTRY_CODE']=X_train['LOGIN_COUNTRY_CODE'].astype('category')\n",
    "X_train['LISTING_COUNTRY_CODE']=X_train['LISTING_COUNTRY_CODE'].astype('category')\n"
   ]
  },
  {
   "cell_type": "code",
   "execution_count": null,
   "metadata": {},
   "outputs": [],
   "source": [
    "#making a list of categories for different columns\n",
    "browsers = list(X_train['BROWSER'].dtype.categories)\n",
    "os = list(X_train['OS'].dtype.categories)\n",
    "login_countries =list(X_train['LOGIN_COUNTRY_CODE'].dtype.categories)\n",
    "listing_countries = list(X_train['LISTING_COUNTRY_CODE'].dtype.categories)"
   ]
  },
  {
   "cell_type": "code",
   "execution_count": null,
   "metadata": {},
   "outputs": [],
   "source": [
    "print(browsers)"
   ]
  },
  {
   "cell_type": "code",
   "execution_count": null,
   "metadata": {},
   "outputs": [],
   "source": [
    "print(os)"
   ]
  },
  {
   "cell_type": "code",
   "execution_count": null,
   "metadata": {},
   "outputs": [],
   "source": [
    "print(login_countries)"
   ]
  },
  {
   "cell_type": "code",
   "execution_count": null,
   "metadata": {},
   "outputs": [],
   "source": [
    "print(listing_countries)"
   ]
  },
  {
   "cell_type": "code",
   "execution_count": null,
   "metadata": {},
   "outputs": [],
   "source": [
    "print(browsers)"
   ]
  },
  {
   "cell_type": "code",
   "execution_count": null,
   "metadata": {},
   "outputs": [],
   "source": [
    "print(X_train)\n"
   ]
  },
  {
   "cell_type": "code",
   "execution_count": null,
   "metadata": {},
   "outputs": [],
   "source": [
    "X_is_scammer = X_train[X_train['IS_SCAMMER']==1]\n",
    "X_not_scammer = X_train[X_train['IS_SCAMMER']==0]"
   ]
  },
  {
   "cell_type": "code",
   "execution_count": null,
   "metadata": {},
   "outputs": [],
   "source": [
    "X_is_scammer['OS'].value_counts().plot(kind='bar')"
   ]
  },
  {
   "cell_type": "code",
   "execution_count": null,
   "metadata": {},
   "outputs": [],
   "source": [
    "X_is_scammer['BROWSER'].value_counts().plot(kind='bar')"
   ]
  },
  {
   "cell_type": "code",
   "execution_count": null,
   "metadata": {},
   "outputs": [],
   "source": [
    "a4_dims = (6, 6)\n",
    "fig, ax = plt.subplots(figsize=a4_dims)\n",
    "sns.countplot(ax=ax,x='IS_SCAMMER',hue='OS',data=X_train)"
   ]
  },
  {
   "cell_type": "code",
   "execution_count": null,
   "metadata": {
    "scrolled": true
   },
   "outputs": [],
   "source": [
    "fig, ax = plt.subplots(figsize=a4_dims)\n",
    "sns_plot=sns.countplot(ax=ax,x='IS_SCAMMER',hue='BROWSER',data=X_train)"
   ]
  },
  {
   "cell_type": "code",
   "execution_count": null,
   "metadata": {},
   "outputs": [],
   "source": [
    "browser_counts_is_scammer = X_is_scammer['BROWSER'].value_counts()\n",
    "os_counts_is_scammer = X_is_scammer['OS'].value_counts()"
   ]
  },
  {
   "cell_type": "code",
   "execution_count": null,
   "metadata": {},
   "outputs": [],
   "source": [
    "print(browser_counts_is_scammer)"
   ]
  },
  {
   "cell_type": "code",
   "execution_count": null,
   "metadata": {},
   "outputs": [],
   "source": [
    "login_country_counts_is_scammer = X_is_scammer['LOGIN_COUNTRY_CODE'].value_counts()\n",
    "login_country_counts_not_scammer = X_not_scammer['LOGIN_COUNTRY_CODE'].value_counts()"
   ]
  },
  {
   "cell_type": "code",
   "execution_count": null,
   "metadata": {
    "scrolled": true
   },
   "outputs": [],
   "source": [
    "print(login_country_counts_not_scammer[0:20])"
   ]
  },
  {
   "cell_type": "code",
   "execution_count": null,
   "metadata": {},
   "outputs": [],
   "source": [
    "login_country_counts_not_scammer.index\n"
   ]
  },
  {
   "cell_type": "code",
   "execution_count": null,
   "metadata": {},
   "outputs": [],
   "source": [
    "login_countries_list = list(login_country_counts_is_scammer.index)"
   ]
  },
  {
   "cell_type": "code",
   "execution_count": null,
   "metadata": {},
   "outputs": [],
   "source": [
    "##creating a smaller list of login countries\n",
    "login_countries_list_small = login_countries_list[0:16]\n"
   ]
  },
  {
   "cell_type": "code",
   "execution_count": null,
   "metadata": {},
   "outputs": [],
   "source": [
    "print(login_countries_list_small)"
   ]
  },
  {
   "cell_type": "code",
   "execution_count": null,
   "metadata": {},
   "outputs": [],
   "source": [
    "#Keeping login country same if present in above list else replace by 'other'\n",
    "X_train['LOGIN_COUNTRY_CODE']=[x if x in login_countries_list_small else 'other' for x in X_train['LOGIN_COUNTRY_CODE']]"
   ]
  },
  {
   "cell_type": "code",
   "execution_count": null,
   "metadata": {},
   "outputs": [],
   "source": [
    "X_train['LISTING_COUNTRY_CODE']=[x if x in login_countries_list_small else 'other' for x in X_train['LISTING_COUNTRY_CODE']]"
   ]
  },
  {
   "cell_type": "code",
   "execution_count": null,
   "metadata": {},
   "outputs": [],
   "source": [
    "a4_dims = (14, 10)\n",
    "fig, ax = plt.subplots(figsize=a4_dims)\n",
    "sns_plot=sns.countplot(ax=ax,x='IS_SCAMMER',hue='LOGIN_COUNTRY_CODE',data=X_train)"
   ]
  },
  {
   "cell_type": "code",
   "execution_count": null,
   "metadata": {},
   "outputs": [],
   "source": [
    "a4_dims = (14, 10)\n",
    "fig, ax = plt.subplots(figsize=a4_dims)\n",
    "sns_plot=sns.countplot(ax=ax,x='IS_SCAMMER',hue='LISTING_COUNTRY_CODE',data=X_train)"
   ]
  },
  {
   "cell_type": "code",
   "execution_count": null,
   "metadata": {},
   "outputs": [],
   "source": [
    "#Creating a additional Boolean column which is 1 of login and listing countries are same else 0.\n",
    "X_train['login_equals_listing'] = X_train['LOGIN_COUNTRY_CODE']==X_train['LISTING_COUNTRY_CODE']"
   ]
  },
  {
   "cell_type": "code",
   "execution_count": null,
   "metadata": {},
   "outputs": [],
   "source": [
    "#in the plot below we see that probability for being a scammer is higher when login_equals_listing is false compared to when it\n",
    "#is true\n",
    "a4_dims = (7, 5)\n",
    "fig, ax = plt.subplots(figsize=a4_dims)\n",
    "sns_plot=sns.countplot(ax=ax,x='IS_SCAMMER',hue='login_equals_listing',data=X_train)"
   ]
  },
  {
   "cell_type": "code",
   "execution_count": null,
   "metadata": {},
   "outputs": [],
   "source": [
    "a4_dims = (7,5)\n",
    "fig,ax = plt.subplots(figsize=a4_dims)\n",
    "sns.scatterplot(x='LISTING_PRICE',y='IS_SCAMMER',data=X_train,ax=ax)\n",
    "ax.set_xlim(0,200000)"
   ]
  },
  {
   "cell_type": "code",
   "execution_count": null,
   "metadata": {},
   "outputs": [],
   "source": [
    "fig,ax = plt.subplots(figsize=a4_dims)\n",
    "sns.scatterplot(x='ADVERTISER_COMPLETENESS_SCORE',y='IS_SCAMMER',data=X_train)"
   ]
  },
  {
   "cell_type": "code",
   "execution_count": null,
   "metadata": {},
   "outputs": [],
   "source": [
    "X_train"
   ]
  },
  {
   "cell_type": "code",
   "execution_count": null,
   "metadata": {},
   "outputs": [],
   "source": [
    "#converting categorical columns into numerical\n",
    "X_train['login_equals_listing']=X_train['login_equals_listing'].astype('category').cat.codes\n",
    "X_train['MANAGED_ACCOUNT']=X_train['MANAGED_ACCOUNT'].astype('category').cat.codes\n",
    "#Converting %completenss score into a fraction\n",
    "X_train['ADVERTISER_COMPLETENESS_SCORE']=X_train['ADVERTISER_COMPLETENESS_SCORE']/100\n"
   ]
  },
  {
   "cell_type": "code",
   "execution_count": null,
   "metadata": {},
   "outputs": [],
   "source": [
    "X_train"
   ]
  },
  {
   "cell_type": "code",
   "execution_count": null,
   "metadata": {},
   "outputs": [],
   "source": [
    "mean_price = X_train.LISTING_PRICE.mean()\n",
    "stddev = X_train.LISTING_PRICE.std()"
   ]
  },
  {
   "cell_type": "code",
   "execution_count": null,
   "metadata": {},
   "outputs": [],
   "source": [
    "#Standardizing the lsiting price\n",
    "X_train['LISTING_PRICE']=(X_train['LISTING_PRICE']-mean_price)/stddev\n"
   ]
  },
  {
   "cell_type": "code",
   "execution_count": null,
   "metadata": {},
   "outputs": [],
   "source": [
    "X_train"
   ]
  },
  {
   "cell_type": "code",
   "execution_count": null,
   "metadata": {},
   "outputs": [],
   "source": [
    "#Calculating one-hot vectors for OS and BROWSER\n",
    "OS_onehot = pd.get_dummies(X_train['OS'],prefix='OS')\n",
    "BROWSER_onehot = pd.get_dummies(X_train['BROWSER'],prefix='BROWSER')\n"
   ]
  },
  {
   "cell_type": "code",
   "execution_count": null,
   "metadata": {},
   "outputs": [],
   "source": [
    "BROWSER_onehot"
   ]
  },
  {
   "cell_type": "code",
   "execution_count": null,
   "metadata": {},
   "outputs": [],
   "source": [
    "OS_onehot"
   ]
  },
  {
   "cell_type": "code",
   "execution_count": null,
   "metadata": {},
   "outputs": [],
   "source": [
    "#One-hot vectors for login and listing countries\n",
    "LOGIN_onehot = pd.get_dummies(X_train['LOGIN_COUNTRY_CODE'],prefix='LOGIN')\n",
    "LISTING_onehot = pd.get_dummies(X_train['LISTING_COUNTRY_CODE'],prefix='LISTING')"
   ]
  },
  {
   "cell_type": "code",
   "execution_count": null,
   "metadata": {},
   "outputs": [],
   "source": [
    "LISTING_onehot"
   ]
  },
  {
   "cell_type": "code",
   "execution_count": null,
   "metadata": {},
   "outputs": [],
   "source": [
    "X_train = pd.concat([X_train,OS_onehot,BROWSER_onehot,LOGIN_onehot,LISTING_onehot],axis=1)"
   ]
  },
  {
   "cell_type": "code",
   "execution_count": null,
   "metadata": {},
   "outputs": [],
   "source": [
    "X_train\n"
   ]
  },
  {
   "cell_type": "code",
   "execution_count": null,
   "metadata": {},
   "outputs": [],
   "source": [
    "X_train = X_train.drop(['LISTING_CITY','IS_ARCHIVED','ARCHIVE_REASON','ANONYMISED_EMAIL','OS','BROWSER','LOGIN_COUNTRY_CODE','LISTING_COUNTRY_CODE'],axis=1)"
   ]
  },
  {
   "cell_type": "code",
   "execution_count": null,
   "metadata": {},
   "outputs": [],
   "source": [
    "X_train\n"
   ]
  },
  {
   "cell_type": "code",
   "execution_count": null,
   "metadata": {},
   "outputs": [],
   "source": [
    "X_train = X_train.drop(['OS_BlackBerry','BROWSER_BlackBerry','LISTING_ng','BROWSER_Firefox iOS'],axis=1) ##removing entries not found in a later test dataset"
   ]
  },
  {
   "cell_type": "code",
   "execution_count": null,
   "metadata": {},
   "outputs": [],
   "source": [
    "X_train"
   ]
  },
  {
   "cell_type": "code",
   "execution_count": null,
   "metadata": {},
   "outputs": [],
   "source": [
    "X_train_fit, X_test_fit, y_train_fit, y_test_fit = train_test_split(X_train.drop(['IS_SCAMMER'],axis=1),X_train['IS_SCAMMER'],test_size=0.40,random_state=101)\n"
   ]
  },
  {
   "cell_type": "code",
   "execution_count": null,
   "metadata": {},
   "outputs": [],
   "source": [
    "logmodel = LogisticRegression(max_iter=800,solver='lbfgs')"
   ]
  },
  {
   "cell_type": "code",
   "execution_count": null,
   "metadata": {},
   "outputs": [],
   "source": [
    "logmodel.fit(X_train_fit,y_train_fit)"
   ]
  },
  {
   "cell_type": "code",
   "execution_count": null,
   "metadata": {},
   "outputs": [],
   "source": [
    "predictions_train = logmodel.predict(X_train_fit)\n",
    "train_prob = logmodel.predict_proba(X_train_fit)\n",
    "precision_train,recall_train,thresholds_train = precision_recall_curve(y_train_fit,train_prob[:,1])\n",
    "f1_score_train = 2*precision_train*recall_train/(precision_train+recall_train)\n",
    "plt.plot(thresholds_train, precision_train[: -1], \"g--\", label=\"Precision\")\n",
    "plt.plot(thresholds_train, recall_train[: -1], \"b--\", label=\"Recall\")\n",
    "plt.plot(thresholds_train,f1_score_train[: -1],\"r--\",label=\"F1Score\")\n",
    "plt.xlabel('thresholds')\n",
    "plt.ylabel('Precision/Recall')"
   ]
  },
  {
   "cell_type": "code",
   "execution_count": null,
   "metadata": {},
   "outputs": [],
   "source": [
    "print(max(f1_score_train))\n",
    "new_threshold = thresholds_train[np.argmax(f1_score_train)] #defining new threshold for logistic regression which maximises the f1_score\n",
    "print(new_threshold)"
   ]
  },
  {
   "cell_type": "code",
   "execution_count": null,
   "metadata": {},
   "outputs": [],
   "source": [
    "predictions_test = logmodel.predict(X_test_fit)\n",
    "test_prob = logmodel.predict_proba(X_test_fit)\n",
    "precision_test,recall_test,thresholds_test = precision_recall_curve(y_test_fit,test_prob[:,1])\n",
    "f1_score_test = 2*precision_test*recall_test/(precision_test+recall_test)\n",
    "print(max(f1_score_test))\n",
    "new_threshold = thresholds_test[np.argmax(f1_score_test)]\n",
    "print(new_threshold)"
   ]
  },
  {
   "cell_type": "code",
   "execution_count": null,
   "metadata": {},
   "outputs": [],
   "source": [
    "##using a neural netword model to maximize F1 score and find new threshold\n",
    "nnmodel=MLPClassifier(solver='adam', learning_rate_init=0.009,alpha=0.3,hidden_layer_sizes=(10,50), random_state=1,max_iter=600)\n",
    "nnmodel.fit(X_train_fit,y_train_fit)\n",
    "train_prob = nnmodel.predict_proba(X_train_fit)\n",
    "precision_train,recall_train,thresholds_train = precision_recall_curve(y_train_fit,train_prob[:,1])\n",
    "f1_score_train = 2*precision_train*recall_train/(precision_train+recall_train)\n",
    "plt.plot(thresholds_train, precision_train[: -1], \"g--\", label=\"Precision\")\n",
    "plt.plot(thresholds_train, recall_train[: -1], \"b--\", label=\"Recall\")\n",
    "plt.plot(thresholds_train,f1_score_train[: -1],\"r--\",label=\"F1Score\")\n",
    "plt.xlabel('thresholds')\n",
    "plt.ylabel('Precision/Recall')\n",
    "print(max(f1_score_train))\n",
    "new_threshold = thresholds_train[np.argmax(f1_score_train)] #defining new threshold for logistic regression which maximises the f1_score\n",
    "print(new_threshold)"
   ]
  },
  {
   "cell_type": "code",
   "execution_count": null,
   "metadata": {},
   "outputs": [],
   "source": [
    "#calculating performance on the test set\n",
    "test_prob = nnmodel.predict_proba(X_test_fit)\n",
    "precision_test,recall_test,thresholds_test = precision_recall_curve(y_test_fit,test_prob[:,1])\n",
    "f1_score_test = 2*precision_test*recall_test/(precision_test+recall_test)\n",
    "plt.plot(thresholds_test, precision_test[: -1], \"g--\", label=\"Precision\")\n",
    "plt.plot(thresholds_test, recall_test[: -1], \"b--\", label=\"Recall\")\n",
    "plt.plot(thresholds_test,f1_score_test[: -1],\"r--\",label=\"F1Score\")\n",
    "plt.xlabel('thresholds')\n",
    "plt.ylabel('Precision/Recall')\n",
    "print(max(f1_score_test))\n",
    "new_threshold = thresholds_test[np.argmax(f1_score_test)]\n",
    "print(new_threshold)"
   ]
  },
  {
   "cell_type": "code",
   "execution_count": null,
   "metadata": {},
   "outputs": [],
   "source": [
    "#discussing example of using gridsearch to look for optimal hyperparameters, in this case alpha which is a regularization parameter\n",
    "parameters = {'alpha':10.0 **-np.arange(1,7)}\n",
    "print(parameters)"
   ]
  },
  {
   "cell_type": "code",
   "execution_count": null,
   "metadata": {},
   "outputs": [],
   "source": [
    "clf = GridSearchCV(nnmodel,parameters,cv=5,scoring='f1')"
   ]
  },
  {
   "cell_type": "code",
   "execution_count": null,
   "metadata": {},
   "outputs": [],
   "source": [
    "clf.fit(X_train_fit,y_train_fit)"
   ]
  },
  {
   "cell_type": "code",
   "execution_count": null,
   "metadata": {},
   "outputs": [],
   "source": [
    "sorted(clf.cv_results_.keys())"
   ]
  },
  {
   "cell_type": "code",
   "execution_count": null,
   "metadata": {},
   "outputs": [],
   "source": [
    "clf.cv_results_['mean_test_score']\n"
   ]
  },
  {
   "cell_type": "code",
   "execution_count": null,
   "metadata": {},
   "outputs": [],
   "source": []
  }
 ],
 "metadata": {
  "kernelspec": {
   "display_name": "Python 3",
   "language": "python",
   "name": "python3"
  },
  "language_info": {
   "codemirror_mode": {
    "name": "ipython",
    "version": 3
   },
   "file_extension": ".py",
   "mimetype": "text/x-python",
   "name": "python",
   "nbconvert_exporter": "python",
   "pygments_lexer": "ipython3",
   "version": "3.7.4"
  }
 },
 "nbformat": 4,
 "nbformat_minor": 2
}
