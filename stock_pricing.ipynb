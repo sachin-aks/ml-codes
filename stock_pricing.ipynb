{
 "cells": [
  {
   "cell_type": "code",
   "execution_count": 1,
   "metadata": {},
   "outputs": [
    {
     "name": "stderr",
     "output_type": "stream",
     "text": [
      "Using TensorFlow backend.\n"
     ]
    }
   ],
   "source": [
    "##This code reads an APPLE stock database and learns to predict the opening price. I am using LSTM in Keras to train \n",
    "#and test the model. I am also testing the effect of feature standardization and scaling on the results\n",
    "\n",
    "import numpy as np\n",
    "import tensorflow as tf\n",
    "import pandas as pd\n",
    "import matplotlib.pyplot as plt\n",
    "import seaborn as sns\n",
    "from sklearn.model_selection import train_test_split\n",
    "from sklearn.linear_model import LogisticRegression\n",
    "from sklearn.metrics import classification_report\n",
    "from sklearn.neural_network import MLPClassifier\n",
    "from sklearn.metrics import precision_recall_curve\n",
    "from sklearn.model_selection import GridSearchCV\n",
    "from keras.models import Model\n",
    "from keras.layers import Dense, Input, Dropout, LSTM, Activation, BatchNormalization\n",
    "from keras.layers.embeddings import Embedding\n",
    "from keras.preprocessing import sequence\n",
    "from keras.models import Sequential\n",
    "from keras.optimizers import Adam\n",
    "from keras.initializers import glorot_uniform\n",
    "import os"
   ]
  },
  {
   "cell_type": "code",
   "execution_count": 2,
   "metadata": {
    "scrolled": true
   },
   "outputs": [],
   "source": [
    "missing_values = ['na','--','?','-','None','none','non','null','NaN','']\n",
    "X_data = pd.read_csv(\"AAPL_data.csv\")\n"
   ]
  },
  {
   "cell_type": "code",
   "execution_count": 3,
   "metadata": {},
   "outputs": [
    {
     "data": {
      "text/html": [
       "<div>\n",
       "<style scoped>\n",
       "    .dataframe tbody tr th:only-of-type {\n",
       "        vertical-align: middle;\n",
       "    }\n",
       "\n",
       "    .dataframe tbody tr th {\n",
       "        vertical-align: top;\n",
       "    }\n",
       "\n",
       "    .dataframe thead th {\n",
       "        text-align: right;\n",
       "    }\n",
       "</style>\n",
       "<table border=\"1\" class=\"dataframe\">\n",
       "  <thead>\n",
       "    <tr style=\"text-align: right;\">\n",
       "      <th></th>\n",
       "      <th>date</th>\n",
       "      <th>open</th>\n",
       "      <th>high</th>\n",
       "      <th>low</th>\n",
       "      <th>close</th>\n",
       "      <th>volume</th>\n",
       "      <th>Name</th>\n",
       "    </tr>\n",
       "  </thead>\n",
       "  <tbody>\n",
       "    <tr>\n",
       "      <th>0</th>\n",
       "      <td>2013-02-08</td>\n",
       "      <td>67.7142</td>\n",
       "      <td>68.4014</td>\n",
       "      <td>66.8928</td>\n",
       "      <td>67.8542</td>\n",
       "      <td>158168416</td>\n",
       "      <td>AAPL</td>\n",
       "    </tr>\n",
       "    <tr>\n",
       "      <th>1</th>\n",
       "      <td>2013-02-11</td>\n",
       "      <td>68.0714</td>\n",
       "      <td>69.2771</td>\n",
       "      <td>67.6071</td>\n",
       "      <td>68.5614</td>\n",
       "      <td>129029425</td>\n",
       "      <td>AAPL</td>\n",
       "    </tr>\n",
       "    <tr>\n",
       "      <th>2</th>\n",
       "      <td>2013-02-12</td>\n",
       "      <td>68.5014</td>\n",
       "      <td>68.9114</td>\n",
       "      <td>66.8205</td>\n",
       "      <td>66.8428</td>\n",
       "      <td>151829363</td>\n",
       "      <td>AAPL</td>\n",
       "    </tr>\n",
       "    <tr>\n",
       "      <th>3</th>\n",
       "      <td>2013-02-13</td>\n",
       "      <td>66.7442</td>\n",
       "      <td>67.6628</td>\n",
       "      <td>66.1742</td>\n",
       "      <td>66.7156</td>\n",
       "      <td>118721995</td>\n",
       "      <td>AAPL</td>\n",
       "    </tr>\n",
       "    <tr>\n",
       "      <th>4</th>\n",
       "      <td>2013-02-14</td>\n",
       "      <td>66.3599</td>\n",
       "      <td>67.3771</td>\n",
       "      <td>66.2885</td>\n",
       "      <td>66.6556</td>\n",
       "      <td>88809154</td>\n",
       "      <td>AAPL</td>\n",
       "    </tr>\n",
       "    <tr>\n",
       "      <th>5</th>\n",
       "      <td>2013-02-15</td>\n",
       "      <td>66.9785</td>\n",
       "      <td>67.1656</td>\n",
       "      <td>65.7028</td>\n",
       "      <td>65.7371</td>\n",
       "      <td>97924631</td>\n",
       "      <td>AAPL</td>\n",
       "    </tr>\n",
       "    <tr>\n",
       "      <th>6</th>\n",
       "      <td>2013-02-19</td>\n",
       "      <td>65.8714</td>\n",
       "      <td>66.1042</td>\n",
       "      <td>64.8356</td>\n",
       "      <td>65.7128</td>\n",
       "      <td>108854046</td>\n",
       "      <td>AAPL</td>\n",
       "    </tr>\n",
       "    <tr>\n",
       "      <th>7</th>\n",
       "      <td>2013-02-20</td>\n",
       "      <td>65.3842</td>\n",
       "      <td>65.3842</td>\n",
       "      <td>64.1142</td>\n",
       "      <td>64.1214</td>\n",
       "      <td>118891367</td>\n",
       "      <td>AAPL</td>\n",
       "    </tr>\n",
       "    <tr>\n",
       "      <th>8</th>\n",
       "      <td>2013-02-21</td>\n",
       "      <td>63.7142</td>\n",
       "      <td>64.1671</td>\n",
       "      <td>63.2599</td>\n",
       "      <td>63.7228</td>\n",
       "      <td>111596821</td>\n",
       "      <td>AAPL</td>\n",
       "    </tr>\n",
       "    <tr>\n",
       "      <th>9</th>\n",
       "      <td>2013-02-22</td>\n",
       "      <td>64.1785</td>\n",
       "      <td>64.5142</td>\n",
       "      <td>63.7999</td>\n",
       "      <td>64.4014</td>\n",
       "      <td>82583823</td>\n",
       "      <td>AAPL</td>\n",
       "    </tr>\n",
       "  </tbody>\n",
       "</table>\n",
       "</div>"
      ],
      "text/plain": [
       "         date     open     high      low    close     volume  Name\n",
       "0  2013-02-08  67.7142  68.4014  66.8928  67.8542  158168416  AAPL\n",
       "1  2013-02-11  68.0714  69.2771  67.6071  68.5614  129029425  AAPL\n",
       "2  2013-02-12  68.5014  68.9114  66.8205  66.8428  151829363  AAPL\n",
       "3  2013-02-13  66.7442  67.6628  66.1742  66.7156  118721995  AAPL\n",
       "4  2013-02-14  66.3599  67.3771  66.2885  66.6556   88809154  AAPL\n",
       "5  2013-02-15  66.9785  67.1656  65.7028  65.7371   97924631  AAPL\n",
       "6  2013-02-19  65.8714  66.1042  64.8356  65.7128  108854046  AAPL\n",
       "7  2013-02-20  65.3842  65.3842  64.1142  64.1214  118891367  AAPL\n",
       "8  2013-02-21  63.7142  64.1671  63.2599  63.7228  111596821  AAPL\n",
       "9  2013-02-22  64.1785  64.5142  63.7999  64.4014   82583823  AAPL"
      ]
     },
     "execution_count": 3,
     "metadata": {},
     "output_type": "execute_result"
    }
   ],
   "source": [
    "X_data.head(10)\n"
   ]
  },
  {
   "cell_type": "code",
   "execution_count": 4,
   "metadata": {},
   "outputs": [
    {
     "data": {
      "text/plain": [
       "(1259, 7)"
      ]
     },
     "execution_count": 4,
     "metadata": {},
     "output_type": "execute_result"
    }
   ],
   "source": [
    "X_data.shape"
   ]
  },
  {
   "cell_type": "code",
   "execution_count": 5,
   "metadata": {},
   "outputs": [],
   "source": [
    "seq_l = 50   ##this determines the sequence of each entry for the training set\n",
    "X_train = X_data.open[0:int(0.8*X_data.shape[0])]\n",
    "X_test = X_data.open[int(0.8*X_data.shape[0])-seq_l:]"
   ]
  },
  {
   "cell_type": "code",
   "execution_count": 6,
   "metadata": {},
   "outputs": [
    {
     "data": {
      "text/plain": [
       "(1007,)"
      ]
     },
     "execution_count": 6,
     "metadata": {},
     "output_type": "execute_result"
    }
   ],
   "source": [
    "X_train.shape"
   ]
  },
  {
   "cell_type": "code",
   "execution_count": 7,
   "metadata": {},
   "outputs": [],
   "source": [
    "##first I am standarizing the opening price using the mean and the standard deviation\n",
    "mean_val = X_train.mean()\n",
    "dev = X_train.std()\n",
    "\n",
    "X_train = (X_train - mean_val)/dev\n",
    "X_test = (X_test-mean_val)/dev"
   ]
  },
  {
   "cell_type": "code",
   "execution_count": 8,
   "metadata": {},
   "outputs": [
    {
     "data": {
      "text/plain": [
       "55.4242"
      ]
     },
     "execution_count": 8,
     "metadata": {},
     "output_type": "execute_result"
    }
   ],
   "source": [
    "\n",
    "X_data.open.min()"
   ]
  },
  {
   "cell_type": "code",
   "execution_count": 9,
   "metadata": {},
   "outputs": [],
   "source": [
    "#function to convert raw data into a sequence input for the LSTM\n",
    "def convert_to_sequence(df,seq_l):\n",
    "    m = df.shape[0]\n",
    "    x = np.zeros((m-seq_l,seq_l))\n",
    "    y = np.zeros(m-seq_l)\n",
    "    for i in range(0,m-seq_l):\n",
    "        x[i,:] = df[i:i+seq_l]\n",
    "        y[i] = df[i+seq_l]\n",
    "    \n",
    "    return x,y"
   ]
  },
  {
   "cell_type": "code",
   "execution_count": 10,
   "metadata": {},
   "outputs": [],
   "source": [
    "x_seq,y_seq = convert_to_sequence(X_train,seq_l)"
   ]
  },
  {
   "cell_type": "code",
   "execution_count": 11,
   "metadata": {},
   "outputs": [],
   "source": [
    "x_seq = np.reshape(x_seq,(x_seq.shape[0],x_seq.shape[1],1))\n",
    "y_seq = np.reshape(y_seq,(y_seq.shape[0],1))"
   ]
  },
  {
   "cell_type": "code",
   "execution_count": 12,
   "metadata": {},
   "outputs": [
    {
     "name": "stdout",
     "output_type": "stream",
     "text": [
      "Model: \"sequential_1\"\n",
      "_________________________________________________________________\n",
      "Layer (type)                 Output Shape              Param #   \n",
      "=================================================================\n",
      "lstm_1 (LSTM)                (None, 50, 120)           58560     \n",
      "_________________________________________________________________\n",
      "dropout_1 (Dropout)          (None, 50, 120)           0         \n",
      "_________________________________________________________________\n",
      "lstm_2 (LSTM)                (None, 50, 120)           115680    \n",
      "_________________________________________________________________\n",
      "dropout_2 (Dropout)          (None, 50, 120)           0         \n",
      "_________________________________________________________________\n",
      "lstm_3 (LSTM)                (None, 120)               115680    \n",
      "_________________________________________________________________\n",
      "dropout_3 (Dropout)          (None, 120)               0         \n",
      "_________________________________________________________________\n",
      "dense_1 (Dense)              (None, 1)                 121       \n",
      "=================================================================\n",
      "Total params: 290,041\n",
      "Trainable params: 290,041\n",
      "Non-trainable params: 0\n",
      "_________________________________________________________________\n"
     ]
    }
   ],
   "source": [
    "#Building Keras LSTM model\n",
    "model = Sequential()\n",
    "model.add(LSTM(units=120,return_sequences=True,input_shape=(x_seq.shape[1],1)))\n",
    "model.add(Dropout(0.2))\n",
    "model.add(LSTM(units=120,return_sequences=True))\n",
    "model.add(Dropout(0.2))\n",
    "model.add(LSTM(units=120,return_sequences=False))\n",
    "model.add(Dropout(0.2))\n",
    "model.add(Dense(1))\n",
    "model.summary()\n"
   ]
  },
  {
   "cell_type": "code",
   "execution_count": 13,
   "metadata": {},
   "outputs": [
    {
     "name": "stdout",
     "output_type": "stream",
     "text": [
      "WARNING:tensorflow:From C:\\Users\\sacsp\\Downloads\\WPy64-3741\\python-3.7.4.amd64\\lib\\site-packages\\keras\\backend\\tensorflow_backend.py:422: The name tf.global_variables is deprecated. Please use tf.compat.v1.global_variables instead.\n",
      "\n",
      "Epoch 1/50\n",
      "957/957 [==============================] - 10s 11ms/step - loss: 0.1609\n",
      "Epoch 2/50\n",
      "957/957 [==============================] - 8s 9ms/step - loss: 0.0438\n",
      "Epoch 3/50\n",
      "957/957 [==============================] - 8s 9ms/step - loss: 0.0344\n",
      "Epoch 4/50\n",
      "957/957 [==============================] - 9s 9ms/step - loss: 0.0309\n",
      "Epoch 5/50\n",
      "957/957 [==============================] - 9s 9ms/step - loss: 0.0280\n",
      "Epoch 6/50\n",
      "957/957 [==============================] - 9s 10ms/step - loss: 0.0268\n",
      "Epoch 7/50\n",
      "957/957 [==============================] - 9s 9ms/step - loss: 0.0239\n",
      "Epoch 8/50\n",
      "957/957 [==============================] - 9s 9ms/step - loss: 0.0237\n",
      "Epoch 9/50\n",
      "957/957 [==============================] - 9s 9ms/step - loss: 0.0214\n",
      "Epoch 10/50\n",
      "957/957 [==============================] - 9s 9ms/step - loss: 0.0228\n",
      "Epoch 11/50\n",
      "957/957 [==============================] - 8s 9ms/step - loss: 0.0229\n",
      "Epoch 12/50\n",
      "957/957 [==============================] - 8s 8ms/step - loss: 0.0215\n",
      "Epoch 13/50\n",
      "957/957 [==============================] - 8s 9ms/step - loss: 0.0202\n",
      "Epoch 14/50\n",
      "957/957 [==============================] - 8s 8ms/step - loss: 0.0224\n",
      "Epoch 15/50\n",
      "957/957 [==============================] - 8s 9ms/step - loss: 0.0190\n",
      "Epoch 16/50\n",
      "957/957 [==============================] - 8s 9ms/step - loss: 0.0182\n",
      "Epoch 17/50\n",
      "957/957 [==============================] - 8s 9ms/step - loss: 0.0184\n",
      "Epoch 18/50\n",
      "957/957 [==============================] - 9s 9ms/step - loss: 0.0195\n",
      "Epoch 19/50\n",
      "957/957 [==============================] - 9s 9ms/step - loss: 0.0187\n",
      "Epoch 20/50\n",
      "957/957 [==============================] - 9s 10ms/step - loss: 0.0182\n",
      "Epoch 21/50\n",
      "957/957 [==============================] - 9s 10ms/step - loss: 0.0200\n",
      "Epoch 22/50\n",
      "957/957 [==============================] - 10s 10ms/step - loss: 0.0160\n",
      "Epoch 23/50\n",
      "957/957 [==============================] - 9s 9ms/step - loss: 0.0169\n",
      "Epoch 24/50\n",
      "957/957 [==============================] - 9s 9ms/step - loss: 0.0162\n",
      "Epoch 25/50\n",
      "957/957 [==============================] - 11s 11ms/step - loss: 0.0164\n",
      "Epoch 26/50\n",
      "957/957 [==============================] - 9s 9ms/step - loss: 0.0165\n",
      "Epoch 27/50\n",
      "957/957 [==============================] - 9s 9ms/step - loss: 0.0153\n",
      "Epoch 28/50\n",
      "957/957 [==============================] - 9s 9ms/step - loss: 0.0155\n",
      "Epoch 29/50\n",
      "957/957 [==============================] - 8s 9ms/step - loss: 0.0155\n",
      "Epoch 30/50\n",
      "957/957 [==============================] - 8s 9ms/step - loss: 0.0137\n",
      "Epoch 31/50\n",
      "957/957 [==============================] - 8s 9ms/step - loss: 0.0149\n",
      "Epoch 32/50\n",
      "957/957 [==============================] - 8s 9ms/step - loss: 0.0148\n",
      "Epoch 33/50\n",
      "957/957 [==============================] - 8s 9ms/step - loss: 0.0144\n",
      "Epoch 34/50\n",
      "957/957 [==============================] - 10s 11ms/step - loss: 0.0156\n",
      "Epoch 35/50\n",
      "957/957 [==============================] - 11s 11ms/step - loss: 0.0144\n",
      "Epoch 36/50\n",
      "957/957 [==============================] - 11s 11ms/step - loss: 0.0141\n",
      "Epoch 37/50\n",
      "957/957 [==============================] - 11s 11ms/step - loss: 0.0136\n",
      "Epoch 38/50\n",
      "957/957 [==============================] - 11s 11ms/step - loss: 0.0135\n",
      "Epoch 39/50\n",
      "957/957 [==============================] - 9s 9ms/step - loss: 0.0136\n",
      "Epoch 40/50\n",
      "957/957 [==============================] - 8s 9ms/step - loss: 0.0135\n",
      "Epoch 41/50\n",
      "957/957 [==============================] - 9s 9ms/step - loss: 0.0123\n",
      "Epoch 42/50\n",
      "957/957 [==============================] - 8s 9ms/step - loss: 0.0122\n",
      "Epoch 43/50\n",
      "957/957 [==============================] - 8s 9ms/step - loss: 0.0131\n",
      "Epoch 44/50\n",
      "957/957 [==============================] - 8s 9ms/step - loss: 0.0130\n",
      "Epoch 45/50\n",
      "957/957 [==============================] - 8s 9ms/step - loss: 0.0123\n",
      "Epoch 46/50\n",
      "957/957 [==============================] - 8s 9ms/step - loss: 0.0123\n",
      "Epoch 47/50\n",
      "957/957 [==============================] - 8s 9ms/step - loss: 0.0123\n",
      "Epoch 48/50\n",
      "957/957 [==============================] - 8s 9ms/step - loss: 0.0133\n",
      "Epoch 49/50\n",
      "957/957 [==============================] - 9s 9ms/step - loss: 0.0131\n",
      "Epoch 50/50\n",
      "957/957 [==============================] - 9s 9ms/step - loss: 0.0114\n"
     ]
    },
    {
     "data": {
      "text/plain": [
       "<keras.callbacks.callbacks.History at 0x2cc01005e48>"
      ]
     },
     "execution_count": 13,
     "metadata": {},
     "output_type": "execute_result"
    }
   ],
   "source": [
    "#Training model\n",
    "opt = Adam(learning_rate=0.001, beta_1=0.9, beta_2=0.999, amsgrad=False)\n",
    "model.compile(loss='mean_squared_error',optimizer=opt)\n",
    "model.fit(x_seq,y_seq, epochs = 50, batch_size = 32)"
   ]
  },
  {
   "cell_type": "code",
   "execution_count": 14,
   "metadata": {},
   "outputs": [
    {
     "data": {
      "text/plain": [
       "0      0.646513\n",
       "1      0.660647\n",
       "2      0.630023\n",
       "3      0.668657\n",
       "4      0.610470\n",
       "         ...   \n",
       "297    3.286612\n",
       "298    3.231723\n",
       "299    2.906628\n",
       "300    2.705446\n",
       "301    3.094382\n",
       "Name: open, Length: 302, dtype: float64"
      ]
     },
     "execution_count": 14,
     "metadata": {},
     "output_type": "execute_result"
    }
   ],
   "source": [
    "X_test=X_test.reset_index(drop=True)\n",
    "X_test"
   ]
  },
  {
   "cell_type": "code",
   "execution_count": 15,
   "metadata": {},
   "outputs": [],
   "source": [
    "#Building sequences for test data\n",
    "x_test,y_test = convert_to_sequence(X_test,seq_l)"
   ]
  },
  {
   "cell_type": "code",
   "execution_count": 16,
   "metadata": {},
   "outputs": [],
   "source": [
    "x_test = np.reshape(x_test,(x_test.shape[0],x_test.shape[1],1))\n",
    "pred = model.predict(x_test)"
   ]
  },
  {
   "cell_type": "code",
   "execution_count": 17,
   "metadata": {},
   "outputs": [
    {
     "data": {
      "text/plain": [
       "array([[1.5225976],\n",
       "       [1.569466 ],\n",
       "       [1.5957861],\n",
       "       [1.6273245],\n",
       "       [1.657675 ]], dtype=float32)"
      ]
     },
     "execution_count": 17,
     "metadata": {},
     "output_type": "execute_result"
    }
   ],
   "source": [
    "pred[0:5]"
   ]
  },
  {
   "cell_type": "code",
   "execution_count": 18,
   "metadata": {},
   "outputs": [
    {
     "data": {
      "text/plain": [
       "(252,)"
      ]
     },
     "execution_count": 18,
     "metadata": {},
     "output_type": "execute_result"
    }
   ],
   "source": [
    "y_test.shape"
   ]
  },
  {
   "cell_type": "code",
   "execution_count": 19,
   "metadata": {},
   "outputs": [
    {
     "data": {
      "text/plain": [
       "<matplotlib.legend.Legend at 0x2cc071f8b88>"
      ]
     },
     "execution_count": 19,
     "metadata": {},
     "output_type": "execute_result"
    },
    {
     "data": {
      "image/png": "[encoded data removed]",
      "text/plain": [
       "<Figure size 864x720 with 1 Axes>"
      ]
     },
     "metadata": {
      "needs_background": "light"
     },
     "output_type": "display_data"
    }
   ],
   "source": [
    "#plotting and comparing data\n",
    "a4_dims = (12, 10)\n",
    "fig, ax = plt.subplots(figsize=a4_dims)\n",
    "xa = np.arange(0,252)\n",
    "plt.plot(pred*dev+mean_val,'r')\n",
    "plt.plot(xa,y_test*dev + mean_val)\n",
    "plt.legend(('Predicted value','Actual value'))"
   ]
  },
  {
   "cell_type": "code",
   "execution_count": 20,
   "metadata": {},
   "outputs": [],
   "source": [
    "X_train_scale = X_data.open[0:int(0.8*X_data.shape[0])]\n",
    "X_test_scale = X_data.open[int(0.8*X_data.shape[0])-seq_l:]\n",
    "max_val = X_train_scale.max()\n",
    "min_val = X_train_scale.min()\n"
   ]
  },
  {
   "cell_type": "code",
   "execution_count": 21,
   "metadata": {},
   "outputs": [],
   "source": [
    "#observe effect of scaling data between 0 and 1\n",
    "X_train_scale = (X_train_scale - min_val)/(max_val-min_val)\n",
    "X_test_scale = (X_test_scale - min_val)/(max_val-min_val)"
   ]
  },
  {
   "cell_type": "code",
   "execution_count": 22,
   "metadata": {},
   "outputs": [],
   "source": [
    "x_seq,y_seq = convert_to_sequence(X_train_scale,seq_l)"
   ]
  },
  {
   "cell_type": "code",
   "execution_count": 23,
   "metadata": {},
   "outputs": [],
   "source": [
    "x_seq = np.reshape(x_seq,(x_seq.shape[0],x_seq.shape[1],1))\n",
    "y_seq = np.reshape(y_seq,(y_seq.shape[0],1))"
   ]
  },
  {
   "cell_type": "code",
   "execution_count": 24,
   "metadata": {},
   "outputs": [
    {
     "name": "stdout",
     "output_type": "stream",
     "text": [
      "Epoch 1/50\n",
      "957/957 [==============================] - 11s 11ms/step - loss: 0.0164\n",
      "Epoch 2/50\n",
      "957/957 [==============================] - 8s 9ms/step - loss: 0.0040\n",
      "Epoch 3/50\n",
      "957/957 [==============================] - 8s 9ms/step - loss: 0.0028\n",
      "Epoch 4/50\n",
      "957/957 [==============================] - 8s 9ms/step - loss: 0.0024\n",
      "Epoch 5/50\n",
      "957/957 [==============================] - 9s 10ms/step - loss: 0.0025\n",
      "Epoch 6/50\n",
      "957/957 [==============================] - 11s 11ms/step - loss: 0.0023\n",
      "Epoch 7/50\n",
      "957/957 [==============================] - 11s 11ms/step - loss: 0.0024\n",
      "Epoch 8/50\n",
      "957/957 [==============================] - 11s 11ms/step - loss: 0.0019\n",
      "Epoch 9/50\n",
      "957/957 [==============================] - 11s 11ms/step - loss: 0.0020\n",
      "Epoch 10/50\n",
      "957/957 [==============================] - 11s 11ms/step - loss: 0.0025\n",
      "Epoch 11/50\n",
      "957/957 [==============================] - 11s 11ms/step - loss: 0.0020\n",
      "Epoch 12/50\n",
      "957/957 [==============================] - 9s 10ms/step - loss: 0.0020\n",
      "Epoch 13/50\n",
      "957/957 [==============================] - 8s 9ms/step - loss: 0.0019\n",
      "Epoch 14/50\n",
      "957/957 [==============================] - 8s 9ms/step - loss: 0.0020\n",
      "Epoch 15/50\n",
      "957/957 [==============================] - 9s 9ms/step - loss: 0.0021\n",
      "Epoch 16/50\n",
      "957/957 [==============================] - 9s 9ms/step - loss: 0.0019\n",
      "Epoch 17/50\n",
      "957/957 [==============================] - 9s 9ms/step - loss: 0.0020\n",
      "Epoch 18/50\n",
      "957/957 [==============================] - 8s 9ms/step - loss: 0.0019\n",
      "Epoch 19/50\n",
      "957/957 [==============================] - 8s 9ms/step - loss: 0.0021\n",
      "Epoch 20/50\n",
      "957/957 [==============================] - 8s 9ms/step - loss: 0.0016\n",
      "Epoch 21/50\n",
      "957/957 [==============================] - 8s 9ms/step - loss: 0.0017\n",
      "Epoch 22/50\n",
      "957/957 [==============================] - 8s 9ms/step - loss: 0.0017\n",
      "Epoch 23/50\n",
      "957/957 [==============================] - 10s 11ms/step - loss: 0.0016\n",
      "Epoch 24/50\n",
      "957/957 [==============================] - 11s 11ms/step - loss: 0.0019\n",
      "Epoch 25/50\n",
      "957/957 [==============================] - 11s 11ms/step - loss: 0.0018\n",
      "Epoch 26/50\n",
      "957/957 [==============================] - 11s 11ms/step - loss: 0.0018\n",
      "Epoch 27/50\n",
      "957/957 [==============================] - 11s 11ms/step - loss: 0.0016\n",
      "Epoch 28/50\n",
      "957/957 [==============================] - 8s 9ms/step - loss: 0.0015\n",
      "Epoch 29/50\n",
      "957/957 [==============================] - 8s 9ms/step - loss: 0.0016\n",
      "Epoch 30/50\n",
      "957/957 [==============================] - 9s 9ms/step - loss: 0.0015\n",
      "Epoch 31/50\n",
      "957/957 [==============================] - 8s 9ms/step - loss: 0.0017\n",
      "Epoch 32/50\n",
      "957/957 [==============================] - 8s 9ms/step - loss: 0.0017\n",
      "Epoch 33/50\n",
      "957/957 [==============================] - 9s 9ms/step - loss: 0.0015\n",
      "Epoch 34/50\n",
      "957/957 [==============================] - 9s 9ms/step - loss: 0.0015\n",
      "Epoch 35/50\n",
      "957/957 [==============================] - 9s 10ms/step - loss: 0.0016\n",
      "Epoch 36/50\n",
      "957/957 [==============================] - 9s 9ms/step - loss: 0.0015\n",
      "Epoch 37/50\n",
      "957/957 [==============================] - 8s 9ms/step - loss: 0.0015\n",
      "Epoch 38/50\n",
      "957/957 [==============================] - 8s 9ms/step - loss: 0.0015\n",
      "Epoch 39/50\n",
      "957/957 [==============================] - 9s 9ms/step - loss: 0.0015\n",
      "Epoch 40/50\n",
      "957/957 [==============================] - 9s 9ms/step - loss: 0.0015\n",
      "Epoch 41/50\n",
      "957/957 [==============================] - 9s 9ms/step - loss: 0.0013\n",
      "Epoch 42/50\n",
      "957/957 [==============================] - 9s 9ms/step - loss: 0.0012\n",
      "Epoch 43/50\n",
      "957/957 [==============================] - 9s 9ms/step - loss: 0.0013\n",
      "Epoch 44/50\n",
      "957/957 [==============================] - 9s 9ms/step - loss: 0.0017\n",
      "Epoch 45/50\n",
      "957/957 [==============================] - 9s 9ms/step - loss: 0.0013\n",
      "Epoch 46/50\n",
      "957/957 [==============================] - 9s 9ms/step - loss: 0.0013\n",
      "Epoch 47/50\n",
      "957/957 [==============================] - 11s 11ms/step - loss: 0.0014\n",
      "Epoch 48/50\n",
      "957/957 [==============================] - 11s 12ms/step - loss: 0.0014\n",
      "Epoch 49/50\n",
      "957/957 [==============================] - 11s 11ms/step - loss: 0.0014\n",
      "Epoch 50/50\n",
      "957/957 [==============================] - 9s 10ms/step - loss: 0.0015\n"
     ]
    },
    {
     "data": {
      "text/plain": [
       "<keras.callbacks.callbacks.History at 0x2cc086a6a48>"
      ]
     },
     "execution_count": 24,
     "metadata": {},
     "output_type": "execute_result"
    }
   ],
   "source": [
    "model.compile(loss='mean_squared_error',optimizer=opt)\n",
    "model.fit(x_seq,y_seq, epochs = 50, batch_size = 32)"
   ]
  },
  {
   "cell_type": "code",
   "execution_count": 25,
   "metadata": {},
   "outputs": [],
   "source": [
    "X_test_scale=X_test_scale.reset_index(drop=True)\n",
    "x_test,y_test = convert_to_sequence(X_test_scale,seq_l)"
   ]
  },
  {
   "cell_type": "code",
   "execution_count": 26,
   "metadata": {},
   "outputs": [
    {
     "data": {
      "text/plain": [
       "<matplotlib.legend.Legend at 0x2cc0b6cae88>"
      ]
     },
     "execution_count": 26,
     "metadata": {},
     "output_type": "execute_result"
    },
    {
     "data": {
      "image/png": "[encoded data removed]",
      "text/plain": [
       "<Figure size 720x432 with 1 Axes>"
      ]
     },
     "metadata": {
      "needs_background": "light"
     },
     "output_type": "display_data"
    }
   ],
   "source": [
    "x_test = np.reshape(x_test,(x_test.shape[0],x_test.shape[1],1))\n",
    "pred_scale = model.predict(x_test)\n",
    "a4_dims = (10, 6)\n",
    "fig, ax = plt.subplots(figsize=a4_dims)\n",
    "plt.plot(pred_scale*(max_val-min_val)+min_val,'r')\n",
    "plt.plot(y_test*(max_val-min_val)+min_val)\n",
    "plt.legend(('Predicted value','Actual value'))"
   ]
  },
  {
   "cell_type": "code",
   "execution_count": null,
   "metadata": {},
   "outputs": [],
   "source": []
  }
 ],
 "metadata": {
  "kernelspec": {
   "display_name": "Python 3",
   "language": "python",
   "name": "python3"
  },
  "language_info": {
   "codemirror_mode": {
    "name": "ipython",
    "version": 3
   },
   "file_extension": ".py",
   "mimetype": "text/x-python",
   "name": "python",
   "nbconvert_exporter": "python",
   "pygments_lexer": "ipython3",
   "version": "3.7.4"
  }
 },
 "nbformat": 4,
 "nbformat_minor": 2
}
